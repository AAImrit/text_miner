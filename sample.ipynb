{
 "cells": [
  {
   "cell_type": "code",
   "execution_count": 1,
   "metadata": {},
   "outputs": [],
   "source": [
    "import pandas as pd\n",
    "import os\n",
    "import sys\n",
    "\n",
    "module_path = os.path.abspath(os.path.join('text_miner_project'))\n",
    "\n",
    "# Add the subdir to sys.path\n",
    "if module_path not in sys.path:\n",
    "    sys.path.append(module_path)\n",
    "\n",
    "# Now you can import your modules\n",
    "import main\n",
    "import create_new_issue"
   ]
  },
  {
   "cell_type": "code",
   "execution_count": 3,
   "metadata": {},
   "outputs": [
    {
     "name": "stdout",
     "output_type": "stream",
     "text": [
      "(inspector|critic)&(cat|rat|roach)\n",
      "(inspector|critic)&(cat|rat|roach) resulted in the following expression: (?=.*(inspector|critic))(?=.*(cat|rat|roach))\n",
      "Here's a sample of the retrieved info. The full test file is located: new_dataset/test.csv\n",
      "   level_0  id                                        Description  index\n",
      "0        1   2  Cockroach and rat found running under the boil...    1.0\n",
      "1       14  15  out of cheese, the cat wasn't happy last night...   14.0\n",
      "2       21  22  cat treat order will come tomorrow morning, sh...   21.0\n",
      "3       31  32  rat found roaming near the brojen door at 7, s...   31.0\n",
      "New issue has been logged into common issues\n",
      "Result has been save in: new_dataset/inspector or critic and animals.csv\n"
     ]
    }
   ],
   "source": [
    "common_issues_path = main.get_data_path(\"dataset\\\\common_issues.csv\")\n",
    "issue_list = pd.read_csv(common_issues_path)\n",
    "\n",
    "save_path = main.get_data_path(\"new_dataset\\\\test.csv\")\n",
    "file_name = \"dataset\\\\all_data.csv\"\n",
    "col_name = \"Description\"\n",
    "\n",
    "data = main.get_data(file_name)\n",
    "create_new_issue.create_new_issue_main(data, save_path, common_issues_path, col_name)"
   ]
  },
  {
   "cell_type": "code",
   "execution_count": null,
   "metadata": {},
   "outputs": [],
   "source": []
  }
 ],
 "metadata": {
  "kernelspec": {
   "display_name": "Python 3",
   "language": "python",
   "name": "python3"
  },
  "language_info": {
   "codemirror_mode": {
    "name": "ipython",
    "version": 3
   },
   "file_extension": ".py",
   "mimetype": "text/x-python",
   "name": "python",
   "nbconvert_exporter": "python",
   "pygments_lexer": "ipython3",
   "version": "3.10.0"
  }
 },
 "nbformat": 4,
 "nbformat_minor": 2
}
